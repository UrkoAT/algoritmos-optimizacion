{
  "cells": [
    {
      "cell_type": "markdown",
      "metadata": {
        "id": "hVbXYX-RfPWh"
      },
      "source": [
        "# Algoritmos de optimización - Seminario\n",
        "\n",
        "Nombre y Apellidos:  Urko Agirregomezkorta\n",
        "<br>\n",
        "Url: [URL](https://github.com/UrkoAT/algoritmos-optimizacion/blob/main/TP_Urko_A.ipynb)\n",
        "<br>\n",
        "Problema:\n",
        ">Problema 3. Combinar cifras y operaciones\n",
        "\n",
        "Descripción del problema:\n",
        "El problema consiste en analizar el siguiente problema y diseñar un algoritmo que lo resuelva\n",
        "Disponemos de las 9 cifras del 1 al 9 (excluimos el cero) y de los 4 signos básicos de las\n",
        "operaciones fundamentales: suma(+),resta(-), multiplicación(*) y división (/)\n",
        "\n",
        "Debemos combinarlos alternativamente sin repetir ninguno de ellos para obtener una\n",
        "cantidad dada. Un ejemplo sería para obtener el 4:\n",
        "\n",
        "(*) La respuesta es obligatoria\n"
      ]
    },
    {
      "cell_type": "markdown",
      "metadata": {
        "id": "3_-exlrTgLd-"
      },
      "source": [
        "(*)¿Cuantas posibilidades hay sin tener en cuenta las restricciones?<br>\n",
        "\n",
        "\n",
        "\n",
        "¿Cuantas posibilidades hay teniendo en cuenta todas las restricciones.\n",
        "\n",
        "\n"
      ]
    },
    {
      "cell_type": "markdown",
      "metadata": {
        "id": "WfCUqJyKhPcw"
      },
      "source": [
        "## Sin tener en cuenta las restricciones\n",
        "Cuando no consideramos restricciones, podemos usar cualquier número y operador en cualquier posición. Si tuviéramos 9 posiciones para los números y 8 posiciones para los operadores (pues los números y operadores se alternan comenzando y terminando con un número), las posibilidades serían enormes, incluso permitiendo repeticiones. Sin embargo, este enfoque no refleja adecuadamente el problema descrito, dado que estamos limitados a 9 números únicos y 4 operadores que se pueden repetir.\n",
        "\n",
        "## Teniendo en cuenta todas las restricciones\n",
        "Aquí es donde las cosas se ponen más interesantes:\n",
        "\n",
        "Hay 9! formas de ordenar los números del 1 al 9 sin repetición.\n",
        "Para los operadores, tenemos 4 lugares donde pueden ir, y pueden repetirse. Sin embargo, dado que queremos usar los 4 operadores exactamente una vez entre los números, en realidad estamos buscando todas las permutaciones de 4 elementos tomados de 4, que es 4!.\n",
        "Por lo tanto, el número total de combinaciones posibles, respetando todas las restricciones, es el producto de estas dos cantidades.\n",
        "\n",
        "Al tener en cuenta todas las restricciones especificadas:\n",
        "\n",
        "Hay 362.880 maneras de permutar los números del 1 al 9 sin repetición.\n",
        "Hay 24 formas de permutar los 4 operadores básicos sin repetición, usándolos exactamente una vez entre los números.\n",
        "Por lo tanto, teniendo en cuenta todas las restricciones, existen un total de 8.709.120 combinaciones posibles que se pueden formar alternando entre los 9 números y los 4 operadores básicos de operaciones sin repetir ninguno de ellos y siguiendo el patrón especificado."
      ]
    },
    {
      "cell_type": "markdown",
      "metadata": {
        "id": "dzynfVJahHoY"
      },
      "source": [
        "Modelo para el espacio de soluciones<br>\n",
        "(*) ¿Cual es la estructura de datos que mejor se adapta al problema? Argumentalo.(Es posible que hayas elegido una al principio y veas la necesidad de cambiar, arguentalo)\n"
      ]
    },
    {
      "cell_type": "markdown",
      "metadata": {},
      "source": [
        "Para este problma se han utilizado dos tipos de estructuras básicas: Listas y Sets.\n",
        "\n",
        "Las listas nos han permitido almacenar las permutaciones de números (1-9) y las combinaciones de operadores (+, -, *, /), mientras que los sets nos han servido para almacenar los resultados únicos de evaluar las expresiones matemáticas generadas."
      ]
    },
    {
      "cell_type": "markdown",
      "metadata": {
        "id": "7Z9U2W7bi-XS"
      },
      "source": [
        "Según el modelo para el espacio de soluciones<br>\n",
        "(*)¿Cual es la función objetivo?\n",
        "\n",
        "(*)¿Es un problema de maximización o minimización?"
      ]
    },
    {
      "cell_type": "markdown",
      "metadata": {
        "id": "pDA-rg3Gj5Lz"
      },
      "source": [
        "La función objetivo en este caso es encontrar combinaciones de números y operadores que se acerquen lo más posible a un valor objetivo dado, o alternativamente, identificar el rango de valores que se pueden obtener con las restricciones dadas y explorar la totalidad deeste espacio para encontrar los valores máximo y mínimo posibles.\n",
        "\n",
        "Dependiendo del objetivo específico:\n",
        "\n",
        "Si el objetivo es encontrar el valor máximo y mínimo posible, la función objetivo sería el valor numérico resultante de evaluar la expresión matemática formada por la combinación de números y operadores, mientras que si el objetivo es alcanzar un valor específico, la función objetivo podría ser una medida de la diferencia entre el valor obtenido de una combinación particular y el valor deseado.\n",
        "\n",
        "Por ello, el problema puede ser visto tanto como de maximización como de minimización, dependiendo del objetivo específico establecido:\n",
        "\n",
        "Maximización: Cuando buscamos el valor máximo que se puede obtener a partir de las combinaciones posibles de números y operadores dados las restricciones.\n",
        "Minimización: Cuando el objetivo es encontrar la combinación que minimiza la diferencia entre el valor obtenido y un valor objetivo específico, o bien, cuando buscamos el valor mínimo posible en el espacio de soluciones."
      ]
    },
    {
      "cell_type": "markdown",
      "metadata": {
        "id": "rlnTYgY1j6I2"
      },
      "source": [
        "Diseña un algoritmo para resolver el problema por fuerza bruta"
      ]
    },
    {
      "cell_type": "code",
      "execution_count": 1,
      "metadata": {
        "id": "CJb5sQ0qkENy"
      },
      "outputs": [],
      "source": [
        "from itertools import permutations\n",
        "import operator\n",
        "\n",
        "def evaluar(expresion):\n",
        "    try:\n",
        "        return eval(expresion)\n",
        "    except ZeroDivisionError:\n",
        "        # print('Division por cero ')\n",
        "        return float('inf')  \n",
        "\n",
        "def combinar_y_evaluar(numero_perm, operador_perm):\n",
        "    expresion = \"\".join(str(numero_perm[i]) + (operador_perm[i] if i < len(operador_perm) else '') for i in range(len(numero_perm)))\n",
        "    return evaluar(expresion)\n",
        "\n",
        "def resolver_problema():\n",
        "    max_valor = float('-inf')\n",
        "    min_valor = float('inf')\n",
        "    operadores = ['+', '-', '*', '/']\n",
        "    numero_permutaciones = permutations(range(1, 10))\n",
        "    operador_permutaciones = permutations(operadores, 4)\n",
        "\n",
        "    for numero_perm in numero_permutaciones:\n",
        "        for operador_perm in operador_permutaciones:\n",
        "            resultado = combinar_y_evaluar(numero_perm, operador_perm)\n",
        "            if resultado != float('inf'): \n",
        "                max_valor = max(max_valor, resultado)\n",
        "                min_valor = min(min_valor, resultado)\n",
        "\n",
        "    print(\"Valor máximo:\", max_valor)\n",
        "    print(\"Valor mínimo:\", min_valor)"
      ]
    },
    {
      "cell_type": "markdown",
      "metadata": {
        "id": "tgrnsC2nkFa8"
      },
      "source": [
        "Calcula la complejidad del algoritmo por fuerza bruta"
      ]
    },
    {
      "cell_type": "code",
      "execution_count": 3,
      "metadata": {
        "id": "rvZWwL-ckRST"
      },
      "outputs": [],
      "source": [
        "# Nueve numeros -> 9!\n",
        "# Cuatreo operadores -> 4!\n",
        "\n",
        "# Complejidad: O(9! * 4!)"
      ]
    },
    {
      "cell_type": "markdown",
      "metadata": {
        "id": "txbrmLmskReM"
      },
      "source": [
        "(*)Diseña un algoritmo que mejore la complejidad del algortimo por fuerza bruta. Argumenta porque crees que mejora el algoritmo por fuerza bruta"
      ]
    },
    {
      "cell_type": "code",
      "execution_count": 4,
      "metadata": {
        "id": "m1eyM21Vkabg"
      },
      "outputs": [],
      "source": [
        "max_valor = float('-inf')\n",
        "min_valor = float('inf')\n",
        "memo = {}\n",
        "\n",
        "def evaluar_expresion(expresion):\n",
        "    if expresion in memo:\n",
        "        return memo[expresion]\n",
        "    try:\n",
        "        resultado = eval(expresion)\n",
        "        memo[expresion] = resultado\n",
        "        return resultado\n",
        "    except ZeroDivisionError:\n",
        "        return None\n",
        "\n",
        "def generar_y_evaluar(numero_perm, operador_comb, posicion=0, expresion_actual=''):\n",
        "    global max_valor, min_valor\n",
        "    if posicion == len(numero_perm) - 1:\n",
        "        resultado = evaluar_expresion(expresion_actual + str(numero_perm[posicion]))\n",
        "        if resultado is not None:\n",
        "            max_valor = max(max_valor, resultado)\n",
        "            min_valor = min(min_valor, resultado)\n",
        "        return\n",
        "\n",
        "    for operador in operador_comb:\n",
        "        nueva_expresion = expresion_actual + str(numero_perm[posicion]) + operador\n",
        "        generar_y_evaluar(numero_perm, operador_comb, posicion + 1, nueva_expresion)\n",
        "\n",
        "def resolver_problema_mejorado():\n",
        "    numeros = range(1, 10)\n",
        "    operadores = ['+', '-', '*', '/']\n",
        "    for numero_perm in permutations(numeros):\n",
        "        generar_y_evaluar(numero_perm, operadores)\n",
        "\n",
        "    print(\"Valor máximo mejorado:\", max_valor)\n",
        "    print(\"Valor mínimo mejorado:\", min_valor)\n"
      ]
    },
    {
      "cell_type": "markdown",
      "metadata": {
        "id": "eGDB4K6uk1iN"
      },
      "source": [
        "(*)Calcula la complejidad del algoritmo"
      ]
    },
    {
      "cell_type": "markdown",
      "metadata": {
        "id": "nREzhkStlCq8"
      },
      "source": [
        "La complejidad del algoritmo mejorado aún depende del número total de permutaciones de números 9! y de las combinaciones de operadores entre esos números. Sin embargo, gracias a la memoización, el número de evaluaciones únicas de expresiones se reduce.\n",
        "\n",
        "En el caso de que cada combinación de numeros y operadores condujera a una expresión única (lo cual es altamente improbable), la complejidad en términos de evaluaciones de expresiones sería similar al algoritmo de fuerza bruta -> O(9! * 4!). Pero gracias a la memoización y la podación, el número real de evaluaciones necesarias será significativamente menor.\n",
        "\n",
        "Es difícil cuantificar exactamente cuánto mejora la complejidad sin una implementación específica y datos sobre la frecuencia de repeticiones en las expresiones generadas. La mejora real en la complejidad depende de cuántas expresiones redundatnes o inválidas se puedan evitar, lo cual varía según el problema específico."
      ]
    },
    {
      "cell_type": "markdown",
      "metadata": {
        "id": "3M6QjTsSkmYe"
      },
      "source": [
        "Según el problema (y tenga sentido), diseña un juego de datos de entrada aleatorios"
      ]
    },
    {
      "cell_type": "code",
      "execution_count": null,
      "metadata": {
        "id": "sJ-N2etjkyWc"
      },
      "outputs": [],
      "source": [
        "# No procede"
      ]
    },
    {
      "cell_type": "markdown",
      "metadata": {
        "id": "zy5ZROmjlGo1"
      },
      "source": [
        "Aplica el algoritmo al juego de datos generado"
      ]
    },
    {
      "cell_type": "code",
      "execution_count": null,
      "metadata": {
        "id": "Jkx8GeiYlUz1"
      },
      "outputs": [],
      "source": [
        "# No procede"
      ]
    },
    {
      "cell_type": "markdown",
      "metadata": {
        "id": "eTFWUJQrtGcv"
      },
      "source": [
        "Enumera las referencias que has utilizado(si ha sido necesario) para llevar a cabo el trabajo"
      ]
    },
    {
      "cell_type": "markdown",
      "metadata": {
        "id": "YKQ_mRBttWsP"
      },
      "source": [
        "https://es.wikipedia.org/wiki/Ramificaci%C3%B3n_y_poda -> Podación\n",
        "https://www.geeksforgeeks.org/what-is-memoization-a-complete-tutorial/ -> Memoizacion\n",
        "https://lhcb.github.io/DevelopKit/03b-upgrading/ -> Mejorar algoritmos"
      ]
    },
    {
      "cell_type": "markdown",
      "metadata": {
        "id": "kAkDPUyRtYyH"
      },
      "source": [
        "Describe brevemente las lineas de como crees que es posible avanzar en el estudio del problema. Ten en cuenta incluso posibles variaciones del problema y/o variaciones al alza del tamaño"
      ]
    },
    {
      "cell_type": "markdown",
      "metadata": {
        "id": "IE0uZmo-tZu-"
      },
      "source": [
        "A mi parecer, hay un par de mejoras que se podrían hacer:\n",
        "Primero, técnicas de programación dinámica. Podría ser factible aplicar técnicas de programacion dinámica para evitar recalculaciones de subproblemas similares, especialmente en variaciones del problema donde el orden de las operaciones puede cambiar el resultado.\n",
        "Y segundo, computación paralela. Dado que la evoluación de diferentes combinaciones es independiente entre sí, este problema es un buen candidato para la paralelización, lo que podría reducir drásticamente los tiempos de cálculo en sistemas con múltiples procesadores o núcleos."
      ]
    }
  ],
  "metadata": {
    "colab": {
      "provenance": []
    },
    "kernelspec": {
      "display_name": "Python 3",
      "name": "python3"
    },
    "language_info": {
      "codemirror_mode": {
        "name": "ipython",
        "version": 3
      },
      "file_extension": ".py",
      "mimetype": "text/x-python",
      "name": "python",
      "nbconvert_exporter": "python",
      "pygments_lexer": "ipython3",
      "version": "3.11.0rc1"
    }
  },
  "nbformat": 4,
  "nbformat_minor": 0
}
